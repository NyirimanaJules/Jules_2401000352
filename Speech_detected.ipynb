{
  "nbformat": 4,
  "nbformat_minor": 0,
  "metadata": {
    "colab": {
      "provenance": []
    },
    "kernelspec": {
      "name": "python3",
      "display_name": "Python 3"
    },
    "language_info": {
      "name": "python"
    }
  },
  "cells": [
    {
      "cell_type": "code",
      "source": [
        "import re\n",
        "\n",
        "offensive_words = [\n",
        "    \"cockroaches\", \"kill\", \"exterminate\", \"destroy\",\n",
        "    \"traitors\", \"snakes\", \"rats\", \"hutu power\", \"tutsi\",\n",
        "    \"ethnic cleansing\", \"wipe out\", \"enemy\", \"revenge\",\n",
        "    \"impurity\", \"infiltrators\", \"parasites\"\n",
        "]\n",
        "\n",
        "def clean_text(text):\n",
        "    \"\"\"Preprocess text by removing special characters and converting to lowercase.\"\"\"\n",
        "    text = text.lower()\n",
        "    return text\n",
        "\n",
        "def detect_hate_speech(text, offensive_words):\n",
        "    \"\"\"Detect offensive words in a given text.\"\"\"\n",
        "    text = clean_text(text)\n",
        "    detected_words = [word for word in offensive_words if word in text]\n",
        "    return detected_words\n",
        "\n",
        "speech = \"We must exterminate all the traitors and infiltrators in our society!\"\n",
        "hate_words = detect_hate_speech(speech, offensive_words)\n",
        "\n",
        "if hate_words:\n",
        "    print(\"Hate speech detected! Offensive words:\", hate_words)\n",
        "else:\n",
        "    print(\"No hate speech detected.\")\n"
      ],
      "metadata": {
        "colab": {
          "base_uri": "https://localhost:8080/"
        },
        "id": "j8b3HRtGakE0",
        "outputId": "af4f0275-caf2-4de9-d9b9-fd19d9bf5607"
      },
      "execution_count": 13,
      "outputs": [
        {
          "output_type": "stream",
          "name": "stdout",
          "text": [
            "Hate speech detected! Offensive words: ['exterminate', 'traitors', 'infiltrators']\n"
          ]
        }
      ]
    }
  ]
}