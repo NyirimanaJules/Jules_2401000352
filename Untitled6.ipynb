{
  "nbformat": 4,
  "nbformat_minor": 0,
  "metadata": {
    "colab": {
      "provenance": []
    },
    "kernelspec": {
      "name": "python3",
      "display_name": "Python 3"
    },
    "language_info": {
      "name": "python"
    }
  },
  "cells": [
    {
      "source": [
        "def jaccard_similarity(file1, file2):\n",
        "  set1 = set(file1.split())\n",
        "  set2 = set(file2.split())\n",
        "  intersection = set1.intersection(set2)\n",
        "  union = set1.union(set2)\n",
        "  similarity = len(intersection) / len(union)\n",
        "  return similarity,intersection\n",
        "\n",
        "file1 = \" This is a sample sample text about is trhis legal sample issues.\"\n",
        "file2 = \" This text legal discusses legal and ethical this issues in legal computing.\"\n",
        "\n",
        "similarity, common_words = jaccard_similarity(file1, file2)\n",
        "print(f\"similarity: {similarity:.2f}\")\n",
        "print(f\" common words: {common_words}\")"
      ],
      "cell_type": "code",
      "metadata": {
        "colab": {
          "base_uri": "https://localhost:8080/"
        },
        "id": "nf8rdIGpGZv_",
        "outputId": "55843570-9a1a-4fc3-b959-6a0c2342a171"
      },
      "execution_count": null,
      "outputs": [
        {
          "output_type": "stream",
          "name": "stdout",
          "text": [
            "similarity: 0.19\n",
            " common words: {'This', 'text', 'legal'}\n"
          ]
        }
      ]
    }
  ]
}